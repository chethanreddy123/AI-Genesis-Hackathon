{
 "cells": [
  {
   "cell_type": "code",
   "execution_count": 2,
   "id": "b0ecf5c2",
   "metadata": {},
   "outputs": [
    {
     "name": "stdout",
     "output_type": "stream",
     "text": [
      "Recommended movies for 'The Godfather': ['The Dark Knight']\n"
     ]
    }
   ],
   "source": [
    "import numpy as np\n",
    "from sklearn.metrics.pairwise import cosine_similarity\n",
    "\n",
    "# Sample movie ratings matrix (rows represent movies, columns represent users)\n",
    "ratings = np.array([\n",
    "    [5, 3, 4, 4, 0],\n",
    "    [3, 1, 2, 3, 3],\n",
    "    [4, 3, 4, 3, 5],\n",
    "    [3, 3, 1, 5, 4]\n",
    "])\n",
    "\n",
    "# List of movie names\n",
    "movies = ['The Shawshank Redemption', 'The Godfather', 'The Dark Knight', 'Pulp Fiction']\n",
    "\n",
    "# Calculate the cosine similarity between movies\n",
    "def similarity(movie1, movie2):\n",
    "    return cosine_similarity(movie1.reshape(1, -1), movie2.reshape(1, -1))[0][0]\n",
    "\n",
    "# Recommend similar movies to a target movie\n",
    "def recommend_movies(movie_id, ratings_matrix, movie_names, num_recommendations):\n",
    "    num_movies, num_users = ratings_matrix.shape\n",
    "    target_movie = ratings_matrix[movie_id]\n",
    "\n",
    "    similarities = []\n",
    "    for movie in range(num_movies):\n",
    "        if movie != movie_id:\n",
    "            sim = similarity(target_movie, ratings_matrix[movie])\n",
    "            similarities.append((movie, sim))\n",
    "\n",
    "    # Sort movies by similarity in descending order\n",
    "    similarities.sort(key=lambda x: x[1], reverse=True)\n",
    "\n",
    "    # Select top similar movies and recommend them\n",
    "    recommendations = []\n",
    "    for sim_movie, _ in similarities[:num_recommendations]:\n",
    "        recommendations.append(movie_names[sim_movie])\n",
    "\n",
    "    return recommendations\n",
    "\n",
    "# Test the movie recommendation system\n",
    "movie_id = 1  # Index of 'The Dark Knight' in the movie list\n",
    "num_recommendations = 1\n",
    "recommendations = recommend_movies(movie_id, ratings, movies, num_recommendations)\n",
    "print(f\"Recommended movies for '{movies[movie_id]}': {recommendations}\")\n"
   ]
  },
  {
   "cell_type": "code",
   "execution_count": null,
   "id": "0d7e0151",
   "metadata": {},
   "outputs": [],
   "source": []
  }
 ],
 "metadata": {
  "kernelspec": {
   "display_name": "Python 3.10 (tensorflow)",
   "language": "python",
   "name": "tensorflow"
  },
  "language_info": {
   "codemirror_mode": {
    "name": "ipython",
    "version": 3
   },
   "file_extension": ".py",
   "mimetype": "text/x-python",
   "name": "python",
   "nbconvert_exporter": "python",
   "pygments_lexer": "ipython3",
   "version": "3.10.9"
  }
 },
 "nbformat": 4,
 "nbformat_minor": 5
}
